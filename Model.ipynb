{
 "cells": [
  {
   "cell_type": "code",
   "execution_count": 1,
   "metadata": {
    "ExecuteTime": {
     "end_time": "2020-12-26T14:27:24.444027Z",
     "start_time": "2020-12-26T14:27:21.183005Z"
    }
   },
   "outputs": [],
   "source": [
    "import numpy as np\n",
    "import pandas as pd\n",
    "import os\n",
    "from sklearn.model_selection import train_test_split\n",
    "from sklearn.linear_model import LinearRegression, Ridge, Lasso\n",
    "from sklearn.linear_model import LogisticRegression\n",
    "from sklearn.naive_bayes import BernoulliNB\n",
    "from sklearn.tree import DecisionTreeClassifier\n",
    "from tqdm import tqdm\n",
    "from utils import find_the_elbow, regression_model_selection, build_regression_model, evaluate_regression_model, classifier_model_selection, build_classifier_model, evaluate_classifier_model"
   ]
  },
  {
   "cell_type": "code",
   "execution_count": 2,
   "metadata": {
    "ExecuteTime": {
     "end_time": "2020-12-26T14:27:33.194988Z",
     "start_time": "2020-12-26T14:27:24.445952Z"
    }
   },
   "outputs": [],
   "source": [
    "df = pd.read_csv('Data/processed_data.csv', encoding='utf-8')\n",
    "\n",
    "df = df.astype({'CANCELLED': object, 'DIVERTED': object,\n",
    "                'BEGINNING_OF_OUTBREAK': object})"
   ]
  },
  {
   "cell_type": "code",
   "execution_count": 3,
   "metadata": {
    "ExecuteTime": {
     "end_time": "2020-12-26T14:27:34.823926Z",
     "start_time": "2020-12-26T14:27:33.200973Z"
    }
   },
   "outputs": [],
   "source": [
    "for feature in df.columns:\n",
    "    if df[feature].dtype == 'O':\n",
    "        df[feature] = df[feature].astype('category').cat.codes"
   ]
  },
  {
   "cell_type": "code",
   "execution_count": 4,
   "metadata": {
    "ExecuteTime": {
     "end_time": "2020-12-26T14:27:34.839143Z",
     "start_time": "2020-12-26T14:27:34.824925Z"
    }
   },
   "outputs": [],
   "source": [
    "path = 'results'\n",
    "if not os.path.exists(os.path.join(path)):\n",
    "    os.mkdir(path)"
   ]
  },
  {
   "cell_type": "markdown",
   "metadata": {},
   "source": [
    "## Regression"
   ]
  },
  {
   "cell_type": "code",
   "execution_count": 5,
   "metadata": {
    "ExecuteTime": {
     "end_time": "2020-12-26T14:27:35.091362Z",
     "start_time": "2020-12-26T14:27:34.840884Z"
    }
   },
   "outputs": [],
   "source": [
    "X = df.loc[:, df.columns.drop(['CANCELLED', 'TOTAL_DELAY'])]\n",
    "y = df.loc[:, 'TOTAL_DELAY']"
   ]
  },
  {
   "cell_type": "code",
   "execution_count": 6,
   "metadata": {
    "ExecuteTime": {
     "end_time": "2020-12-26T14:36:13.736169Z",
     "start_time": "2020-12-26T14:27:35.094036Z"
    }
   },
   "outputs": [
    {
     "data": {
      "image/png": "[encoded data removed]",
      "text/plain": [
       "<Figure size 597.6x417.6 with 1 Axes>"
      ]
     },
     "metadata": {
      "needs_background": "light"
     },
     "output_type": "display_data"
    }
   ],
   "source": [
    "find_the_elbow(X,\n",
    "               figsize=(8.3, 5.8),\n",
    "               title='Infomation Gain Ratio (Regression)',\n",
    "               save=True,\n",
    "               path='./imgs',\n",
    "               show=True)"
   ]
  },
  {
   "cell_type": "code",
   "execution_count": 7,
   "metadata": {
    "ExecuteTime": {
     "end_time": "2020-12-26T14:37:12.200943Z",
     "start_time": "2020-12-26T14:36:13.736169Z"
    }
   },
   "outputs": [
    {
     "name": "stderr",
     "output_type": "stream",
     "text": [
      "\r",
      "  0%|                                                                                            | 0/3 [00:00<?, ?it/s]"
     ]
    },
    {
     "name": "stdout",
     "output_type": "stream",
     "text": [
      "Validating LinearRegression()..\n"
     ]
    },
    {
     "name": "stderr",
     "output_type": "stream",
     "text": [
      "\r",
      " 33%|████████████████████████████                                                        | 1/3 [00:23<00:46, 23.09s/it]"
     ]
    },
    {
     "name": "stdout",
     "output_type": "stream",
     "text": [
      "Validating Ridge(random_state=0)..\n"
     ]
    },
    {
     "name": "stderr",
     "output_type": "stream",
     "text": [
      "\r",
      " 67%|████████████████████████████████████████████████████████                            | 2/3 [00:39<00:21, 21.00s/it]"
     ]
    },
    {
     "name": "stdout",
     "output_type": "stream",
     "text": [
      "Validating Lasso(random_state=0)..\n"
     ]
    },
    {
     "name": "stderr",
     "output_type": "stream",
     "text": [
      "100%|████████████████████████████████████████████████████████████████████████████████████| 3/3 [00:58<00:00, 19.46s/it]\n"
     ]
    },
    {
     "data": {
      "text/html": [
       "<div>\n",
       "<style scoped>\n",
       "    .dataframe tbody tr th:only-of-type {\n",
       "        vertical-align: middle;\n",
       "    }\n",
       "\n",
       "    .dataframe tbody tr th {\n",
       "        vertical-align: top;\n",
       "    }\n",
       "\n",
       "    .dataframe thead th {\n",
       "        text-align: right;\n",
       "    }\n",
       "</style>\n",
       "<table border=\"1\" class=\"dataframe\">\n",
       "  <thead>\n",
       "    <tr style=\"text-align: right;\">\n",
       "      <th></th>\n",
       "      <th>fit_time</th>\n",
       "      <th>score_time</th>\n",
       "      <th>test_neg_mean_squared_error</th>\n",
       "      <th>test_neg_root_mean_squared_error</th>\n",
       "      <th>test_r2</th>\n",
       "    </tr>\n",
       "    <tr>\n",
       "      <th>model</th>\n",
       "      <th></th>\n",
       "      <th></th>\n",
       "      <th></th>\n",
       "      <th></th>\n",
       "      <th></th>\n",
       "    </tr>\n",
       "  </thead>\n",
       "  <tbody>\n",
       "    <tr>\n",
       "      <th>LinearRegression()</th>\n",
       "      <td>4.33548+-0.05042</td>\n",
       "      <td>0.20358+-0.0173</td>\n",
       "      <td>-424.86979+-169.6886</td>\n",
       "      <td>-20.21288+-4.03847</td>\n",
       "      <td>0.03918+-0.0151</td>\n",
       "    </tr>\n",
       "    <tr>\n",
       "      <th>Ridge(random_state=0)</th>\n",
       "      <td>2.93292+-0.04968</td>\n",
       "      <td>0.21398+-0.01846</td>\n",
       "      <td>-424.86979+-169.6886</td>\n",
       "      <td>-20.21288+-4.03847</td>\n",
       "      <td>0.03918+-0.0151</td>\n",
       "    </tr>\n",
       "    <tr>\n",
       "      <th>Lasso(random_state=0)</th>\n",
       "      <td>3.54185+-0.06707</td>\n",
       "      <td>0.21268+-0.01845</td>\n",
       "      <td>-432.11711+-177.53857</td>\n",
       "      <td>-20.36155+-4.18619</td>\n",
       "      <td>0.02727+-0.00563</td>\n",
       "    </tr>\n",
       "  </tbody>\n",
       "</table>\n",
       "</div>"
      ],
      "text/plain": [
       "                               fit_time        score_time  \\\n",
       "model                                                       \n",
       "LinearRegression()     4.33548+-0.05042   0.20358+-0.0173   \n",
       "Ridge(random_state=0)  2.93292+-0.04968  0.21398+-0.01846   \n",
       "Lasso(random_state=0)  3.54185+-0.06707  0.21268+-0.01845   \n",
       "\n",
       "                      test_neg_mean_squared_error  \\\n",
       "model                                               \n",
       "LinearRegression()           -424.86979+-169.6886   \n",
       "Ridge(random_state=0)        -424.86979+-169.6886   \n",
       "Lasso(random_state=0)       -432.11711+-177.53857   \n",
       "\n",
       "                      test_neg_root_mean_squared_error           test_r2  \n",
       "model                                                                     \n",
       "LinearRegression()                  -20.21288+-4.03847   0.03918+-0.0151  \n",
       "Ridge(random_state=0)               -20.21288+-4.03847   0.03918+-0.0151  \n",
       "Lasso(random_state=0)               -20.36155+-4.18619  0.02727+-0.00563  "
      ]
     },
     "execution_count": 7,
     "metadata": {},
     "output_type": "execute_result"
    }
   ],
   "source": [
    "models = [LinearRegression(),\n",
    "          Ridge(random_state=0),\n",
    "          Lasso(random_state=0)]\n",
    "\n",
    "results = []\n",
    "for model in tqdm(models):\n",
    "    print(f'Validating {model}..')\n",
    "    result = regression_model_selection(X, y, model)\n",
    "    result['model'] = model\n",
    "    results.append(result)\n",
    "regression_cross_validation = pd.DataFrame(results).set_index('model')\n",
    "csv_path = os.path.join(path, 'regression_cross_validation.csv')\n",
    "regression_cross_validation.to_csv(csv_path)\n",
    "regression_cross_validation"
   ]
  },
  {
   "cell_type": "code",
   "execution_count": 8,
   "metadata": {
    "ExecuteTime": {
     "end_time": "2020-12-26T14:37:13.737331Z",
     "start_time": "2020-12-26T14:37:12.203936Z"
    }
   },
   "outputs": [],
   "source": [
    "X_train, X_test, y_train, y_test = train_test_split(\n",
    "    X, y, test_size=0.2, random_state=0)"
   ]
  },
  {
   "cell_type": "code",
   "execution_count": 9,
   "metadata": {
    "ExecuteTime": {
     "end_time": "2020-12-26T14:37:16.333487Z",
     "start_time": "2020-12-26T14:37:13.737331Z"
    }
   },
   "outputs": [],
   "source": [
    "ridge = build_regression_model(estimator=Ridge(random_state=0),\n",
    "                               model_name='Ridge',\n",
    "                               X_train=X_train,\n",
    "                               y_train=y_train,\n",
    "                               save=True,\n",
    "                               path='./models')"
   ]
  },
  {
   "cell_type": "code",
   "execution_count": 10,
   "metadata": {
    "ExecuteTime": {
     "end_time": "2020-12-26T14:37:24.670078Z",
     "start_time": "2020-12-26T14:37:16.335482Z"
    }
   },
   "outputs": [
    {
     "data": {
      "image/png": "[encoded data removed]",
      "text/plain": [
       "<Figure size 597.6x417.6 with 1 Axes>"
      ]
     },
     "metadata": {
      "needs_background": "light"
     },
     "output_type": "display_data"
    }
   ],
   "source": [
    "evaluate_regression_model(model=ridge,\n",
    "                          X_test=X_test,\n",
    "                          y_test=y_test,\n",
    "                          figsize=(8.3, 5.8),\n",
    "                          title='Ridge model evaluation',\n",
    "                          save=True,\n",
    "                          path='./imgs',\n",
    "                          show=True)"
   ]
  },
  {
   "cell_type": "markdown",
   "metadata": {},
   "source": [
    "## Classification"
   ]
  },
  {
   "cell_type": "code",
   "execution_count": 11,
   "metadata": {
    "ExecuteTime": {
     "end_time": "2020-12-26T14:37:25.447575Z",
     "start_time": "2020-12-26T14:37:24.672069Z"
    }
   },
   "outputs": [],
   "source": [
    "X = df.loc[:, df.columns.drop(['CANCELLED'])]\n",
    "y = df.loc[:, 'CANCELLED']"
   ]
  },
  {
   "cell_type": "code",
   "execution_count": 12,
   "metadata": {
    "ExecuteTime": {
     "end_time": "2020-12-26T14:46:25.441844Z",
     "start_time": "2020-12-26T14:37:25.447575Z"
    }
   },
   "outputs": [
    {
     "data": {
      "image/png": "[encoded data removed]",
      "text/plain": [
       "<Figure size 597.6x417.6 with 1 Axes>"
      ]
     },
     "metadata": {
      "needs_background": "light"
     },
     "output_type": "display_data"
    }
   ],
   "source": [
    "find_the_elbow(X,\n",
    "               figsize=(8.3, 5.8),\n",
    "               title='Infomation Gain Ratio (Classification)',\n",
    "               save=True,\n",
    "               path='./imgs',\n",
    "               show=True)"
   ]
  },
  {
   "cell_type": "code",
   "execution_count": 13,
   "metadata": {
    "ExecuteTime": {
     "end_time": "2020-12-26T14:51:00.395120Z",
     "start_time": "2020-12-26T14:46:25.441844Z"
    }
   },
   "outputs": [
    {
     "name": "stderr",
     "output_type": "stream",
     "text": [
      "\r",
      "  0%|                                                                                            | 0/3 [00:00<?, ?it/s]"
     ]
    },
    {
     "name": "stdout",
     "output_type": "stream",
     "text": [
      "Validating LogisticRegression(random_state=0)..\n"
     ]
    },
    {
     "name": "stderr",
     "output_type": "stream",
     "text": [
      "C:\\Users\\Hoang-Nhan Nguyen\\anaconda3\\lib\\site-packages\\sklearn\\metrics\\_classification.py:1221: UndefinedMetricWarning: Precision is ill-defined and being set to 0.0 due to no predicted samples. Use `zero_division` parameter to control this behavior.\n",
      "  _warn_prf(average, modifier, msg_start, len(result))\n",
      " 33%|████████████████████████████                                                        | 1/3 [01:29<02:59, 89.98s/it]"
     ]
    },
    {
     "name": "stdout",
     "output_type": "stream",
     "text": [
      "Validating BernoulliNB()..\n"
     ]
    },
    {
     "name": "stderr",
     "output_type": "stream",
     "text": [
      "\r",
      " 67%|████████████████████████████████████████████████████████                            | 2/3 [01:53<01:09, 69.99s/it]"
     ]
    },
    {
     "name": "stdout",
     "output_type": "stream",
     "text": [
      "Validating DecisionTreeClassifier(criterion='entropy', random_state=0)..\n"
     ]
    },
    {
     "name": "stderr",
     "output_type": "stream",
     "text": [
      "100%|████████████████████████████████████████████████████████████████████████████████████| 3/3 [04:34<00:00, 91.62s/it]\n"
     ]
    },
    {
     "data": {
      "text/html": [
       "<div>\n",
       "<style scoped>\n",
       "    .dataframe tbody tr th:only-of-type {\n",
       "        vertical-align: middle;\n",
       "    }\n",
       "\n",
       "    .dataframe tbody tr th {\n",
       "        vertical-align: top;\n",
       "    }\n",
       "\n",
       "    .dataframe thead th {\n",
       "        text-align: right;\n",
       "    }\n",
       "</style>\n",
       "<table border=\"1\" class=\"dataframe\">\n",
       "  <thead>\n",
       "    <tr style=\"text-align: right;\">\n",
       "      <th></th>\n",
       "      <th>fit_time</th>\n",
       "      <th>score_time</th>\n",
       "      <th>test_recall</th>\n",
       "      <th>test_precision</th>\n",
       "      <th>test_accuracy</th>\n",
       "      <th>test_f1</th>\n",
       "    </tr>\n",
       "    <tr>\n",
       "      <th>model</th>\n",
       "      <th></th>\n",
       "      <th></th>\n",
       "      <th></th>\n",
       "      <th></th>\n",
       "      <th></th>\n",
       "      <th></th>\n",
       "    </tr>\n",
       "  </thead>\n",
       "  <tbody>\n",
       "    <tr>\n",
       "      <th>LogisticRegression(random_state=0)</th>\n",
       "      <td>17.16316+-1.84485</td>\n",
       "      <td>0.67291+-0.03999</td>\n",
       "      <td>0.17599+-0.32734</td>\n",
       "      <td>0.4676+-0.42596</td>\n",
       "      <td>0.83507+-0.18145</td>\n",
       "      <td>0.05691+-0.06963</td>\n",
       "    </tr>\n",
       "    <tr>\n",
       "      <th>BernoulliNB()</th>\n",
       "      <td>3.63972+-0.03834</td>\n",
       "      <td>0.8906+-0.05945</td>\n",
       "      <td>0.43269+-0.23865</td>\n",
       "      <td>0.66543+-0.41127</td>\n",
       "      <td>0.80936+-0.22701</td>\n",
       "      <td>0.3486+-0.15436</td>\n",
       "    </tr>\n",
       "    <tr>\n",
       "      <th>DecisionTreeClassifier(criterion='entropy', random_state=0)</th>\n",
       "      <td>31.51297+-4.1908</td>\n",
       "      <td>0.65667+-0.04031</td>\n",
       "      <td>0.26323+-0.36996</td>\n",
       "      <td>0.4206+-0.4737</td>\n",
       "      <td>0.5376+-0.33294</td>\n",
       "      <td>0.08286+-0.07389</td>\n",
       "    </tr>\n",
       "  </tbody>\n",
       "</table>\n",
       "</div>"
      ],
      "text/plain": [
       "                                                             fit_time  \\\n",
       "model                                                                   \n",
       "LogisticRegression(random_state=0)                  17.16316+-1.84485   \n",
       "BernoulliNB()                                        3.63972+-0.03834   \n",
       "DecisionTreeClassifier(criterion='entropy', ran...   31.51297+-4.1908   \n",
       "\n",
       "                                                          score_time  \\\n",
       "model                                                                  \n",
       "LogisticRegression(random_state=0)                  0.67291+-0.03999   \n",
       "BernoulliNB()                                        0.8906+-0.05945   \n",
       "DecisionTreeClassifier(criterion='entropy', ran...  0.65667+-0.04031   \n",
       "\n",
       "                                                         test_recall  \\\n",
       "model                                                                  \n",
       "LogisticRegression(random_state=0)                  0.17599+-0.32734   \n",
       "BernoulliNB()                                       0.43269+-0.23865   \n",
       "DecisionTreeClassifier(criterion='entropy', ran...  0.26323+-0.36996   \n",
       "\n",
       "                                                      test_precision  \\\n",
       "model                                                                  \n",
       "LogisticRegression(random_state=0)                   0.4676+-0.42596   \n",
       "BernoulliNB()                                       0.66543+-0.41127   \n",
       "DecisionTreeClassifier(criterion='entropy', ran...    0.4206+-0.4737   \n",
       "\n",
       "                                                       test_accuracy  \\\n",
       "model                                                                  \n",
       "LogisticRegression(random_state=0)                  0.83507+-0.18145   \n",
       "BernoulliNB()                                       0.80936+-0.22701   \n",
       "DecisionTreeClassifier(criterion='entropy', ran...   0.5376+-0.33294   \n",
       "\n",
       "                                                             test_f1  \n",
       "model                                                                 \n",
       "LogisticRegression(random_state=0)                  0.05691+-0.06963  \n",
       "BernoulliNB()                                        0.3486+-0.15436  \n",
       "DecisionTreeClassifier(criterion='entropy', ran...  0.08286+-0.07389  "
      ]
     },
     "execution_count": 13,
     "metadata": {},
     "output_type": "execute_result"
    }
   ],
   "source": [
    "models = [LogisticRegression(random_state=0),\n",
    "          BernoulliNB(),\n",
    "          DecisionTreeClassifier(criterion='entropy', random_state=0)]\n",
    "\n",
    "results = []\n",
    "for model in tqdm(models):\n",
    "    print(f'Validating {model}..')\n",
    "    result = classifier_model_selection(X, y, model)\n",
    "    result['model'] = model\n",
    "    results.append(result)\n",
    "classification_cross_validation = pd.DataFrame(results).set_index('model')\n",
    "csv_path = os.path.join(path, 'classification_cross_validation.csv')\n",
    "classification_cross_validation.to_csv(csv_path)\n",
    "classification_cross_validation"
   ]
  },
  {
   "cell_type": "code",
   "execution_count": 14,
   "metadata": {
    "ExecuteTime": {
     "end_time": "2020-12-26T14:51:02.790352Z",
     "start_time": "2020-12-26T14:51:00.399053Z"
    }
   },
   "outputs": [],
   "source": [
    "X_train, X_test, y_train, y_test = train_test_split(\n",
    "    X, y, test_size=0.2, stratify=y, random_state=0)"
   ]
  },
  {
   "cell_type": "code",
   "execution_count": 15,
   "metadata": {
    "ExecuteTime": {
     "end_time": "2020-12-26T14:51:06.314372Z",
     "start_time": "2020-12-26T14:51:02.790352Z"
    }
   },
   "outputs": [],
   "source": [
    "naive_bayes = build_classifier_model(estimator=BernoulliNB(),\n",
    "                                     model_name='Naive Bayes',\n",
    "                                     X_train=X_train,\n",
    "                                     y_train=y_train,\n",
    "                                     save=True,\n",
    "                                     path='./models')"
   ]
  },
  {
   "cell_type": "code",
   "execution_count": 16,
   "metadata": {
    "ExecuteTime": {
     "end_time": "2020-12-26T14:51:07.976986Z",
     "start_time": "2020-12-26T14:51:06.316367Z"
    },
    "scrolled": false
   },
   "outputs": [
    {
     "data": {
      "image/png": "[encoded data removed]",
      "text/plain": [
       "<Figure size 597.6x417.6 with 1 Axes>"
      ]
     },
     "metadata": {
      "needs_background": "light"
     },
     "output_type": "display_data"
    }
   ],
   "source": [
    "evaluate_classifier_model(model=naive_bayes,\n",
    "                          X_test=X_test,\n",
    "                          y_test=y_test,\n",
    "                          figsize=(8.3, 5.8),\n",
    "                          title='Naive Bayes model evaluation',\n",
    "                          save=True,\n",
    "                          path='./imgs',\n",
    "                          show=True)"
   ]
  }
 ],
 "metadata": {
  "kernelspec": {
   "display_name": "Python 3",
   "language": "python",
   "name": "python3"
  },
  "language_info": {
   "codemirror_mode": {
    "name": "ipython",
    "version": 3
   },
   "file_extension": ".py",
   "mimetype": "text/x-python",
   "name": "python",
   "nbconvert_exporter": "python",
   "pygments_lexer": "ipython3",
   "version": "3.8.5"
  },
  "toc": {
   "base_numbering": 1,
   "nav_menu": {},
   "number_sections": true,
   "sideBar": true,
   "skip_h1_title": false,
   "title_cell": "Table of Contents",
   "title_sidebar": "Contents",
   "toc_cell": false,
   "toc_position": {},
   "toc_section_display": true,
   "toc_window_display": true
  }
 },
 "nbformat": 4,
 "nbformat_minor": 4
}
